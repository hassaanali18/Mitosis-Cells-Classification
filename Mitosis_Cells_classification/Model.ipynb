{
  "cells": [
    {
      "cell_type": "code",
      "execution_count": 62,
      "metadata": {
        "id": "t4pWfxyCgwbP"
      },
      "outputs": [],
      "source": [
        "import pandas as pd\n",
        "from sklearn.model_selection import train_test_split\n",
        "from sklearn.preprocessing import LabelEncoder\n",
        "from sklearn.metrics import accuracy_score, classification_report\n",
        "import tensorflow as tf\n",
        "from tensorflow.keras import layers, models, applications\n",
        "from skimage import io\n",
        "from skimage.transform import resize\n",
        "from tensorflow.keras.applications import EfficientNetB0\n",
        "from tensorflow.keras.applications import ResNet50, DenseNet201\n",
        "from tensorflow.keras.preprocessing.image import ImageDataGenerator\n",
        "import numpy as np\n",
        "from tensorflow.keras.applications import InceptionV3\n",
        "import matplotlib.pyplot as plt\n"
      ]
    },
    {
      "cell_type": "markdown",
      "metadata": {
        "id": "_tgyk0HQncwo"
      },
      "source": [
        "# **NEXGEN**"
      ]
    },
    {
      "cell_type": "code",
      "execution_count": null,
      "metadata": {
        "id": "AxMbqAI4na7q"
      },
      "outputs": [],
      "source": []
    },
    {
      "cell_type": "code",
      "execution_count": 63,
      "metadata": {
        "colab": {
          "base_uri": "https://localhost:8080/"
        },
        "id": "yiLT2Na8nkBF",
        "outputId": "759d3f65-df23-4694-a2df-38f87a2d68c7"
      },
      "outputs": [],
      "source": [
        "# Load CSV data\n",
        "train_data = pd.read_csv('softec24-final-round/Training.csv')"
      ]
    },
    {
      "cell_type": "code",
      "execution_count": 64,
      "metadata": {
        "colab": {
          "base_uri": "https://localhost:8080/",
          "height": 206
        },
        "id": "l7F1DERpnkBH",
        "outputId": "80586ebd-e9eb-48f8-9ae7-56933cde993d"
      },
      "outputs": [
        {
          "data": {
            "text/html": [
              "<div>\n",
              "<style scoped>\n",
              "    .dataframe tbody tr th:only-of-type {\n",
              "        vertical-align: middle;\n",
              "    }\n",
              "\n",
              "    .dataframe tbody tr th {\n",
              "        vertical-align: top;\n",
              "    }\n",
              "\n",
              "    .dataframe thead th {\n",
              "        text-align: right;\n",
              "    }\n",
              "</style>\n",
              "<table border=\"1\" class=\"dataframe\">\n",
              "  <thead>\n",
              "    <tr style=\"text-align: right;\">\n",
              "      <th></th>\n",
              "      <th>Image</th>\n",
              "      <th>Label</th>\n",
              "    </tr>\n",
              "  </thead>\n",
              "  <tbody>\n",
              "    <tr>\n",
              "      <th>0</th>\n",
              "      <td>0_1000.png</td>\n",
              "      <td>Normal</td>\n",
              "    </tr>\n",
              "    <tr>\n",
              "      <th>1</th>\n",
              "      <td>3000_3500.png</td>\n",
              "      <td>Mitosis</td>\n",
              "    </tr>\n",
              "    <tr>\n",
              "      <th>2</th>\n",
              "      <td>6500_4000.png</td>\n",
              "      <td>Mitosis</td>\n",
              "    </tr>\n",
              "    <tr>\n",
              "      <th>3</th>\n",
              "      <td>7000_2500.png</td>\n",
              "      <td>Mitosis</td>\n",
              "    </tr>\n",
              "    <tr>\n",
              "      <th>4</th>\n",
              "      <td>2000_2500.png</td>\n",
              "      <td>Mitosis</td>\n",
              "    </tr>\n",
              "  </tbody>\n",
              "</table>\n",
              "</div>"
            ],
            "text/plain": [
              "           Image    Label\n",
              "0     0_1000.png   Normal\n",
              "1  3000_3500.png  Mitosis\n",
              "2  6500_4000.png  Mitosis\n",
              "3  7000_2500.png  Mitosis\n",
              "4  2000_2500.png  Mitosis"
            ]
          },
          "execution_count": 64,
          "metadata": {},
          "output_type": "execute_result"
        }
      ],
      "source": [
        "train_data.head()\n"
      ]
    },
    {
      "cell_type": "code",
      "execution_count": 65,
      "metadata": {
        "id": "8clV-7BpnkBI"
      },
      "outputs": [],
      "source": [
        "# Load and preprocess images\n",
        "label_encoder = LabelEncoder()\n",
        "image_folder = 'softec24-final-round/Training Image/'\n",
        "target_size = (128, 128)  # Adjust the size as per your requirements\n",
        "#(4032, 3024)"
      ]
    },
    {
      "cell_type": "code",
      "execution_count": 66,
      "metadata": {
        "id": "kcER5WYvnkBJ"
      },
      "outputs": [],
      "source": [
        "# Convert the 'Image' column to strings\n",
        "train_data['Image'] = train_data['Image'].astype(str)\n",
        "train_data['Label'] = label_encoder.fit_transform(train_data['Label'])\n",
        "\n"
      ]
    },
    {
      "cell_type": "code",
      "execution_count": 67,
      "metadata": {
        "colab": {
          "base_uri": "https://localhost:8080/",
          "height": 472
        },
        "id": "lNTwxwexnkBL",
        "outputId": "e75e09d3-ae10-46b5-e3c4-9a8e3b8258a0"
      },
      "outputs": [
        {
          "data": {
            "image/png": "[encoded data removed]",
            "text/plain": [
              "<Figure size 640x480 with 1 Axes>"
            ]
          },
          "metadata": {},
          "output_type": "display_data"
        }
      ],
      "source": [
        "label_counts = train_data['Label'].value_counts()\n",
        "\n",
        "# Plotting\n",
        "plt.bar(label_counts.index, label_counts.values, color=['blue', 'red'])\n",
        "plt.xlabel('Cell Type')\n",
        "plt.ylabel('Number of Images')\n",
        "plt.title('Distribution of Normal and Mitosis Cell Images')\n",
        "plt.xticks(label_counts.index, ['Normal', 'Mitosis'])\n",
        "plt.show()"
      ]
    },
    {
      "cell_type": "code",
      "execution_count": 68,
      "metadata": {
        "colab": {
          "base_uri": "https://localhost:8080/",
          "height": 206
        },
        "id": "cET7fPminkBM",
        "outputId": "d92ce66e-0b66-41b0-b84b-b2657644e21e"
      },
      "outputs": [
        {
          "data": {
            "text/html": [
              "<div>\n",
              "<style scoped>\n",
              "    .dataframe tbody tr th:only-of-type {\n",
              "        vertical-align: middle;\n",
              "    }\n",
              "\n",
              "    .dataframe tbody tr th {\n",
              "        vertical-align: top;\n",
              "    }\n",
              "\n",
              "    .dataframe thead th {\n",
              "        text-align: right;\n",
              "    }\n",
              "</style>\n",
              "<table border=\"1\" class=\"dataframe\">\n",
              "  <thead>\n",
              "    <tr style=\"text-align: right;\">\n",
              "      <th></th>\n",
              "      <th>Image</th>\n",
              "      <th>Label</th>\n",
              "    </tr>\n",
              "  </thead>\n",
              "  <tbody>\n",
              "    <tr>\n",
              "      <th>0</th>\n",
              "      <td>0_1000.png</td>\n",
              "      <td>1</td>\n",
              "    </tr>\n",
              "    <tr>\n",
              "      <th>1</th>\n",
              "      <td>3000_3500.png</td>\n",
              "      <td>0</td>\n",
              "    </tr>\n",
              "    <tr>\n",
              "      <th>2</th>\n",
              "      <td>6500_4000.png</td>\n",
              "      <td>0</td>\n",
              "    </tr>\n",
              "    <tr>\n",
              "      <th>3</th>\n",
              "      <td>7000_2500.png</td>\n",
              "      <td>0</td>\n",
              "    </tr>\n",
              "    <tr>\n",
              "      <th>4</th>\n",
              "      <td>2000_2500.png</td>\n",
              "      <td>0</td>\n",
              "    </tr>\n",
              "  </tbody>\n",
              "</table>\n",
              "</div>"
            ],
            "text/plain": [
              "           Image  Label\n",
              "0     0_1000.png      1\n",
              "1  3000_3500.png      0\n",
              "2  6500_4000.png      0\n",
              "3  7000_2500.png      0\n",
              "4  2000_2500.png      0"
            ]
          },
          "execution_count": 68,
          "metadata": {},
          "output_type": "execute_result"
        }
      ],
      "source": [
        "train_data.head()"
      ]
    },
    {
      "cell_type": "code",
      "execution_count": 69,
      "metadata": {
        "id": "85doHXwwnkBN"
      },
      "outputs": [],
      "source": [
        "# Create a tf.data.Dataset for parallel loading\n",
        "dataset = tf.data.Dataset.from_tensor_slices((\n",
        "    tf.constant(train_data['Image'].values),\n",
        "    tf.constant(train_data['Label'].values)\n",
        "))"
      ]
    },
    {
      "cell_type": "code",
      "execution_count": 70,
      "metadata": {
        "id": "Ps_WlQ4fnkBO"
      },
      "outputs": [],
      "source": [
        "# Define a function to load and preprocess images\n",
        "def load_and_preprocess_image(image_path, label):\n",
        "    img_path = tf.strings.join([tf.constant(image_folder), image_path])\n",
        "    img = tf.io.read_file(img_path)\n",
        "    img = tf.image.decode_png(img, channels=3)  # Use decode_png for PNG images\n",
        "\n",
        "    # Calculate aspect ratio and resize while maintaining the aspect ratio\n",
        "    aspect_ratio = tf.cast(tf.shape(img)[1] / tf.shape(img)[0], tf.float32)\n",
        "    target_height = tf.cast(target_size[1], tf.float32)\n",
        "    target_width = tf.cast(target_size[0], tf.float32)\n",
        "\n",
        "    new_height = tf.cast(target_width / aspect_ratio, tf.int32)\n",
        "    new_width = tf.cast(target_height * aspect_ratio, tf.int32)\n",
        "\n",
        "    img = tf.image.resize(img, [new_height, new_width])\n",
        "\n",
        "    # Pad the image to the target size if needed\n",
        "    img = tf.image.resize_with_pad(img, target_size[0], target_size[1])\n",
        "\n",
        "    img = tf.cast(img, tf.float32) / 255.0\n",
        "    return img, label\n",
        "\n",
        "\n"
      ]
    },
    {
      "cell_type": "code",
      "execution_count": 71,
      "metadata": {
        "id": "xXtmUkIwnkBO"
      },
      "outputs": [],
      "source": [
        "# Use map and parallelize loading\n",
        "dataset = dataset.map(\n",
        "    lambda x, y: load_and_preprocess_image(x, y),\n",
        "    num_parallel_calls=tf.data.AUTOTUNE\n",
        ")"
      ]
    },
    {
      "cell_type": "code",
      "execution_count": 72,
      "metadata": {},
      "outputs": [],
      "source": [
        "# # Data Augmentation using ImageDataGenerator\n",
        "# datagen = ImageDataGenerator(\n",
        "#     rotation_range=20,\n",
        "#     width_shift_range=0.2,\n",
        "#     height_shift_range=0.2,\n",
        "#     shear_range=0.2,\n",
        "#     zoom_range=0.2,\n",
        "#     horizontal_flip=True,\n",
        "#     vertical_flip=True,\n",
        "#     fill_mode='nearest'\n",
        "# )"
      ]
    },
    {
      "cell_type": "code",
      "execution_count": 73,
      "metadata": {},
      "outputs": [],
      "source": [
        "# def augment_data(img, label):\n",
        "#     img = datagen.random_transform(img)\n",
        "#     return img, label\n"
      ]
    },
    {
      "cell_type": "code",
      "execution_count": 75,
      "metadata": {
        "id": "vl83DRaunkBP"
      },
      "outputs": [],
      "source": [
        "# Batch and prefetch the dataset\n",
        "batch_size = 32\n",
        "dataset = dataset.batch(batch_size).prefetch(tf.data.AUTOTUNE)\n",
        "\n",
        "# Extract X (images) and y (labels) from the dataset\n",
        "X, y = next(iter(dataset))"
      ]
    },
    {
      "cell_type": "code",
      "execution_count": 76,
      "metadata": {
        "id": "PmNjlWcsnkBP"
      },
      "outputs": [],
      "source": [
        "X_np=X.numpy()"
      ]
    },
    {
      "cell_type": "code",
      "execution_count": 77,
      "metadata": {
        "colab": {
          "base_uri": "https://localhost:8080/"
        },
        "id": "suyoeT92nkBQ",
        "outputId": "e2f39b91-23c1-4962-81f8-f696df424b18"
      },
      "outputs": [
        {
          "data": {
            "text/plain": [
              "(32, 128, 128, 3)"
            ]
          },
          "execution_count": 77,
          "metadata": {},
          "output_type": "execute_result"
        }
      ],
      "source": [
        "X_np.shape"
      ]
    },
    {
      "cell_type": "code",
      "execution_count": 78,
      "metadata": {
        "id": "JNwvSdO2nkBR"
      },
      "outputs": [],
      "source": [
        "indeces=np.array(y)"
      ]
    },
    {
      "cell_type": "code",
      "execution_count": 79,
      "metadata": {
        "id": "cVfGucoInkBS"
      },
      "outputs": [],
      "source": [
        "\n",
        "X_train, X_val, y_train, y_val = train_test_split(X_np, indeces, test_size=0.2)\n"
      ]
    },
    {
      "cell_type": "code",
      "execution_count": 80,
      "metadata": {
        "colab": {
          "base_uri": "https://localhost:8080/"
        },
        "id": "sFj0CwEInkBS",
        "outputId": "d9524534-968b-4173-abf4-13d3cd961235"
      },
      "outputs": [
        {
          "name": "stdout",
          "output_type": "stream",
          "text": [
            "<class 'numpy.ndarray'>\n",
            "[[[[0.47549018 0.2382353  0.51666665]\n",
            "   [0.40882352 0.16960785 0.45392156]\n",
            "   [0.4        0.16078432 0.44509804]\n",
            "   ...\n",
            "   [0.85784316 0.622549   0.75784314]\n",
            "   [0.8598039  0.6166667  0.7470588 ]\n",
            "   [0.8882353  0.63039213 0.777451  ]]\n",
            "\n",
            "  [[0.49411765 0.24607843 0.54901963]\n",
            "   [0.4343137  0.23039216 0.49509802]\n",
            "   [0.43039215 0.19803922 0.46666667]\n",
            "   ...\n",
            "   [0.9264706  0.65392154 0.8068628 ]\n",
            "   [0.99019605 0.7137255  0.82941175]\n",
            "   [0.99607843 0.70686275 0.8088235 ]]\n",
            "\n",
            "  [[0.7254902  0.4372549  0.627451  ]\n",
            "   [0.7088235  0.4127451  0.6392157 ]\n",
            "   [0.73137254 0.42156863 0.6431373 ]\n",
            "   ...\n",
            "   [0.9284314  0.58137256 0.75      ]\n",
            "   [0.904902   0.5637255  0.70686275]\n",
            "   [0.8519608  0.51666665 0.66568625]]\n",
            "\n",
            "  ...\n",
            "\n",
            "  [[0.55196077 0.24117647 0.5137255 ]\n",
            "   [0.5637255  0.25392157 0.5107843 ]\n",
            "   [0.64705884 0.33137256 0.58431375]\n",
            "   ...\n",
            "   [0.93333334 0.6039216  0.7137255 ]\n",
            "   [0.97745097 0.6156863  0.7794118 ]\n",
            "   [0.88529414 0.51862746 0.69509804]]\n",
            "\n",
            "  [[0.4882353  0.21764706 0.5235294 ]\n",
            "   [0.6156863  0.28627452 0.55490196]\n",
            "   [0.6784314  0.34313726 0.6039216 ]\n",
            "   ...\n",
            "   [0.84117645 0.5088235  0.64411765]\n",
            "   [0.95490193 0.59705883 0.7343137 ]\n",
            "   [0.9254902  0.5637255  0.7117647 ]]\n",
            "\n",
            "  [[0.672549   0.3372549  0.59607846]\n",
            "   [0.7745098  0.4254902  0.65882355]\n",
            "   [0.73039216 0.3735294  0.622549  ]\n",
            "   ...\n",
            "   [0.9137255  0.5764706  0.6784314 ]\n",
            "   [0.8813726  0.53431374 0.7029412 ]\n",
            "   [0.8333333  0.4862745  0.654902  ]]]\n",
            "\n",
            "\n",
            " [[[0.         0.         0.        ]\n",
            "   [0.         0.         0.        ]\n",
            "   [0.         0.         0.        ]\n",
            "   ...\n",
            "   [0.         0.         0.        ]\n",
            "   [0.         0.         0.        ]\n",
            "   [0.         0.         0.        ]]\n",
            "\n",
            "  [[0.         0.         0.        ]\n",
            "   [0.         0.         0.        ]\n",
            "   [0.         0.         0.        ]\n",
            "   ...\n",
            "   [0.         0.         0.        ]\n",
            "   [0.         0.         0.        ]\n",
            "   [0.         0.         0.        ]]\n",
            "\n",
            "  [[0.         0.         0.        ]\n",
            "   [0.         0.         0.        ]\n",
            "   [0.         0.         0.        ]\n",
            "   ...\n",
            "   [0.         0.         0.        ]\n",
            "   [0.         0.         0.        ]\n",
            "   [0.         0.         0.        ]]\n",
            "\n",
            "  ...\n",
            "\n",
            "  [[0.         0.         0.        ]\n",
            "   [0.         0.         0.        ]\n",
            "   [0.         0.         0.        ]\n",
            "   ...\n",
            "   [0.         0.         0.        ]\n",
            "   [0.         0.         0.        ]\n",
            "   [0.         0.         0.        ]]\n",
            "\n",
            "  [[0.         0.         0.        ]\n",
            "   [0.         0.         0.        ]\n",
            "   [0.         0.         0.        ]\n",
            "   ...\n",
            "   [0.         0.         0.        ]\n",
            "   [0.         0.         0.        ]\n",
            "   [0.         0.         0.        ]]\n",
            "\n",
            "  [[0.         0.         0.        ]\n",
            "   [0.         0.         0.        ]\n",
            "   [0.         0.         0.        ]\n",
            "   ...\n",
            "   [0.         0.         0.        ]\n",
            "   [0.         0.         0.        ]\n",
            "   [0.         0.         0.        ]]]\n",
            "\n",
            "\n",
            " [[[0.6882353  0.36666667 0.6392157 ]\n",
            "   [0.64117646 0.327451   0.5901961 ]\n",
            "   [0.7        0.4019608  0.65588236]\n",
            "   ...\n",
            "   [0.57941175 0.27450982 0.56666666]\n",
            "   [0.5872549  0.28529412 0.5598039 ]\n",
            "   [0.6333333  0.33431372 0.5921569 ]]\n",
            "\n",
            "  [[0.70686275 0.39019608 0.63039213]\n",
            "   [0.6068627  0.29411766 0.5480392 ]\n",
            "   [0.6617647  0.35980392 0.6284314 ]\n",
            "   ...\n",
            "   [0.78137255 0.48333332 0.7352941 ]\n",
            "   [0.7372549  0.4372549  0.6960784 ]\n",
            "   [0.66568625 0.36568627 0.62941176]]\n",
            "\n",
            "  [[0.7411765  0.43529412 0.67058825]\n",
            "   [0.71568626 0.40980393 0.65294117]\n",
            "   [0.6754902  0.36568627 0.622549  ]\n",
            "   ...\n",
            "   [0.6        0.2627451  0.52843136]\n",
            "   [0.6039216  0.25784314 0.55588233]\n",
            "   [0.6764706  0.34705883 0.6598039 ]]\n",
            "\n",
            "  ...\n",
            "\n",
            "  [[0.82058823 0.49607843 0.69215685]\n",
            "   [0.87352943 0.5686275  0.75784314]\n",
            "   [0.79019606 0.49215686 0.7058824 ]\n",
            "   ...\n",
            "   [0.7362745  0.45588234 0.6598039 ]\n",
            "   [0.77843136 0.48235294 0.7107843 ]\n",
            "   [0.62647057 0.34313726 0.60294116]]\n",
            "\n",
            "  [[0.7558824  0.40686274 0.6460784 ]\n",
            "   [0.8715686  0.5441176  0.7480392 ]\n",
            "   [0.8960784  0.59411764 0.7882353 ]\n",
            "   ...\n",
            "   [0.84411764 0.595098   0.7588235 ]\n",
            "   [0.8401961  0.5872549  0.7676471 ]\n",
            "   [0.66862744 0.38235295 0.62647057]]\n",
            "\n",
            "  [[0.81960785 0.47058824 0.70980394]\n",
            "   [0.85294116 0.5254902  0.7294118 ]\n",
            "   [0.85588235 0.5539216  0.7480392 ]\n",
            "   ...\n",
            "   [0.81078434 0.55490196 0.7519608 ]\n",
            "   [0.8656863  0.6098039  0.80196077]\n",
            "   [0.8303922  0.55490196 0.73333335]]]\n",
            "\n",
            "\n",
            " ...\n",
            "\n",
            "\n",
            " [[[0.         0.         0.        ]\n",
            "   [0.         0.         0.        ]\n",
            "   [0.         0.         0.        ]\n",
            "   ...\n",
            "   [0.         0.         0.        ]\n",
            "   [0.         0.         0.        ]\n",
            "   [0.         0.         0.        ]]\n",
            "\n",
            "  [[0.         0.         0.        ]\n",
            "   [0.         0.         0.        ]\n",
            "   [0.         0.         0.        ]\n",
            "   ...\n",
            "   [0.         0.         0.        ]\n",
            "   [0.         0.         0.        ]\n",
            "   [0.         0.         0.        ]]\n",
            "\n",
            "  [[0.         0.         0.        ]\n",
            "   [0.         0.         0.        ]\n",
            "   [0.         0.         0.        ]\n",
            "   ...\n",
            "   [0.         0.         0.        ]\n",
            "   [0.         0.         0.        ]\n",
            "   [0.         0.         0.        ]]\n",
            "\n",
            "  ...\n",
            "\n",
            "  [[0.         0.         0.        ]\n",
            "   [0.         0.         0.        ]\n",
            "   [0.         0.         0.        ]\n",
            "   ...\n",
            "   [0.         0.         0.        ]\n",
            "   [0.         0.         0.        ]\n",
            "   [0.         0.         0.        ]]\n",
            "\n",
            "  [[0.         0.         0.        ]\n",
            "   [0.         0.         0.        ]\n",
            "   [0.         0.         0.        ]\n",
            "   ...\n",
            "   [0.         0.         0.        ]\n",
            "   [0.         0.         0.        ]\n",
            "   [0.         0.         0.        ]]\n",
            "\n",
            "  [[0.         0.         0.        ]\n",
            "   [0.         0.         0.        ]\n",
            "   [0.         0.         0.        ]\n",
            "   ...\n",
            "   [0.         0.         0.        ]\n",
            "   [0.         0.         0.        ]\n",
            "   [0.         0.         0.        ]]]\n",
            "\n",
            "\n",
            " [[[0.72745097 0.4107843  0.6245098 ]\n",
            "   [0.8813726  0.5990196  0.80490196]\n",
            "   [0.8607843  0.5245098  0.7352941 ]\n",
            "   ...\n",
            "   [0.86960787 0.77254903 0.85882354]\n",
            "   [0.8872549  0.75784314 0.8637255 ]\n",
            "   [0.90294117 0.73039216 0.85      ]]\n",
            "\n",
            "  [[0.6901961  0.3872549  0.59607846]\n",
            "   [0.86960787 0.5617647  0.7764706 ]\n",
            "   [0.83235294 0.5127451  0.74509805]\n",
            "   ...\n",
            "   [0.8980392  0.77843136 0.872549  ]\n",
            "   [0.89705884 0.7676471  0.87352943]\n",
            "   [0.90392154 0.7735294  0.87941176]]\n",
            "\n",
            "  [[0.6960784  0.42745098 0.6372549 ]\n",
            "   [0.9245098  0.6333333  0.7558824 ]\n",
            "   [0.9313725  0.6215686  0.827451  ]\n",
            "   ...\n",
            "   [0.85784316 0.7078431  0.8401961 ]\n",
            "   [0.87941176 0.8186275  0.877451  ]\n",
            "   [0.8980392  0.8039216  0.8980392 ]]\n",
            "\n",
            "  ...\n",
            "\n",
            "  [[0.6509804  0.40686274 0.6617647 ]\n",
            "   [0.6931372  0.43333334 0.67941177]\n",
            "   [0.7490196  0.48039216 0.72745097]\n",
            "   ...\n",
            "   [0.7921569  0.48921567 0.71568626]\n",
            "   [0.827451   0.53333336 0.75686276]\n",
            "   [0.7970588  0.4872549  0.71666664]]\n",
            "\n",
            "  [[0.7352941  0.46078432 0.65588236]\n",
            "   [0.6862745  0.41862744 0.6480392 ]\n",
            "   [0.73137254 0.45588234 0.6843137 ]\n",
            "   ...\n",
            "   [0.6696078  0.37843138 0.65588236]\n",
            "   [0.7372549  0.42941177 0.7058824 ]\n",
            "   [0.7607843  0.4882353  0.7078431 ]]\n",
            "\n",
            "  [[0.8117647  0.50392157 0.7205882 ]\n",
            "   [0.8245098  0.5127451  0.7127451 ]\n",
            "   [0.7745098  0.47745097 0.69411767]\n",
            "   ...\n",
            "   [0.57254905 0.30980393 0.5509804 ]\n",
            "   [0.6519608  0.37058824 0.6039216 ]\n",
            "   [0.7470588  0.49607843 0.69509804]]]\n",
            "\n",
            "\n",
            " [[[0.         0.         0.        ]\n",
            "   [0.         0.         0.        ]\n",
            "   [0.         0.         0.        ]\n",
            "   ...\n",
            "   [0.         0.         0.        ]\n",
            "   [0.         0.         0.        ]\n",
            "   [0.         0.         0.        ]]\n",
            "\n",
            "  [[0.         0.         0.        ]\n",
            "   [0.         0.         0.        ]\n",
            "   [0.         0.         0.        ]\n",
            "   ...\n",
            "   [0.         0.         0.        ]\n",
            "   [0.         0.         0.        ]\n",
            "   [0.         0.         0.        ]]\n",
            "\n",
            "  [[0.         0.         0.        ]\n",
            "   [0.         0.         0.        ]\n",
            "   [0.         0.         0.        ]\n",
            "   ...\n",
            "   [0.         0.         0.        ]\n",
            "   [0.         0.         0.        ]\n",
            "   [0.         0.         0.        ]]\n",
            "\n",
            "  ...\n",
            "\n",
            "  [[0.         0.         0.        ]\n",
            "   [0.         0.         0.        ]\n",
            "   [0.         0.         0.        ]\n",
            "   ...\n",
            "   [0.         0.         0.        ]\n",
            "   [0.         0.         0.        ]\n",
            "   [0.         0.         0.        ]]\n",
            "\n",
            "  [[0.         0.         0.        ]\n",
            "   [0.         0.         0.        ]\n",
            "   [0.         0.         0.        ]\n",
            "   ...\n",
            "   [0.         0.         0.        ]\n",
            "   [0.         0.         0.        ]\n",
            "   [0.         0.         0.        ]]\n",
            "\n",
            "  [[0.         0.         0.        ]\n",
            "   [0.         0.         0.        ]\n",
            "   [0.         0.         0.        ]\n",
            "   ...\n",
            "   [0.         0.         0.        ]\n",
            "   [0.         0.         0.        ]\n",
            "   [0.         0.         0.        ]]]]\n",
            "<class 'numpy.ndarray'>\n",
            "[[[[0.65       0.32941177 0.59117645]\n",
            "   [0.71862745 0.42745098 0.6784314 ]\n",
            "   [0.72156864 0.41960785 0.6617647 ]\n",
            "   ...\n",
            "   [0.9078431  0.6784314  0.8117647 ]\n",
            "   [0.90882355 0.67941177 0.8127451 ]\n",
            "   [0.89215684 0.6627451  0.79607844]]\n",
            "\n",
            "  [[0.82843137 0.527451   0.70980394]\n",
            "   [0.84117645 0.5019608  0.7117647 ]\n",
            "   [0.8254902  0.54901963 0.7294118 ]\n",
            "   ...\n",
            "   [0.9235294  0.69509804 0.7941176 ]\n",
            "   [0.78039217 0.55       0.65882355]\n",
            "   [0.9196078  0.6882353  0.80784315]]\n",
            "\n",
            "  [[0.85588235 0.6343137  0.8068628 ]\n",
            "   [0.8862745  0.66568625 0.81764704]\n",
            "   [0.87647057 0.69509804 0.8254902 ]\n",
            "   ...\n",
            "   [0.88039213 0.627451   0.7607843 ]\n",
            "   [0.76960784 0.5156863  0.654902  ]\n",
            "   [0.84411764 0.5872549  0.74215686]]\n",
            "\n",
            "  ...\n",
            "\n",
            "  [[0.86960787 0.77254903 0.85882354]\n",
            "   [0.8872549  0.75784314 0.8637255 ]\n",
            "   [0.90294117 0.73039216 0.85      ]\n",
            "   ...\n",
            "   [0.8990196  0.74509805 0.88529414]\n",
            "   [0.92058825 0.7882353  0.8598039 ]\n",
            "   [0.9264706  0.7705882  0.85      ]]\n",
            "\n",
            "  [[0.8980392  0.77843136 0.872549  ]\n",
            "   [0.89705884 0.7676471  0.87352943]\n",
            "   [0.90392154 0.7735294  0.87941176]\n",
            "   ...\n",
            "   [0.93333334 0.722549   0.85882354]\n",
            "   [0.8813726  0.67941177 0.8       ]\n",
            "   [0.90392154 0.68333334 0.8098039 ]]\n",
            "\n",
            "  [[0.85784316 0.7078431  0.8401961 ]\n",
            "   [0.87941176 0.8186275  0.877451  ]\n",
            "   [0.8980392  0.8039216  0.8980392 ]\n",
            "   ...\n",
            "   [0.89509803 0.56764704 0.7235294 ]\n",
            "   [0.9431372  0.6372549  0.7627451 ]\n",
            "   [0.9941176  0.7107843  0.8519608 ]]]\n",
            "\n",
            "\n",
            " [[[0.70392156 0.3745098  0.61764705]\n",
            "   [0.7392157  0.40980393 0.6431373 ]\n",
            "   [0.82843137 0.5147059  0.7362745 ]\n",
            "   ...\n",
            "   [0.95       0.8382353  0.92058825]\n",
            "   [0.9588235  0.90686274 0.95980394]\n",
            "   [0.9196078  0.9117647  0.9372549 ]]\n",
            "\n",
            "  [[0.7372549  0.43137255 0.6735294 ]\n",
            "   [0.79509807 0.45882353 0.71666664]\n",
            "   [0.8147059  0.49117646 0.7245098 ]\n",
            "   ...\n",
            "   [0.9019608  0.7176471  0.84313726]\n",
            "   [0.97843134 0.87941176 0.9431372 ]\n",
            "   [0.93921566 0.9196078  0.93921566]]\n",
            "\n",
            "  [[0.81078434 0.4627451  0.67941177]\n",
            "   [0.7882353  0.4372549  0.67058825]\n",
            "   [0.8215686  0.47843137 0.70490193]\n",
            "   ...\n",
            "   [0.69411767 0.43333334 0.6607843 ]\n",
            "   [0.95       0.7794118  0.9235294 ]\n",
            "   [0.9529412  0.8627451  0.93921566]]\n",
            "\n",
            "  ...\n",
            "\n",
            "  [[0.7147059  0.39215687 0.6745098 ]\n",
            "   [0.8088235  0.49117646 0.7147059 ]\n",
            "   [0.75784314 0.41666666 0.62647057]\n",
            "   ...\n",
            "   [0.7205882  0.43333334 0.66764706]\n",
            "   [0.7078431  0.40686274 0.62941176]\n",
            "   [0.53333336 0.24509804 0.4970588 ]]\n",
            "\n",
            "  [[0.6333333  0.34313726 0.6137255 ]\n",
            "   [0.7519608  0.43137255 0.6735294 ]\n",
            "   [0.82254905 0.47745097 0.7107843 ]\n",
            "   ...\n",
            "   [0.5352941  0.28235295 0.54509807]\n",
            "   [0.577451   0.28333333 0.5617647 ]\n",
            "   [0.7509804  0.44411764 0.7       ]]\n",
            "\n",
            "  [[0.5058824  0.21764706 0.50392157]\n",
            "   [0.64411765 0.33039215 0.5872549 ]\n",
            "   [0.76666665 0.44705883 0.7019608 ]\n",
            "   ...\n",
            "   [0.52843136 0.24411765 0.5362745 ]\n",
            "   [0.6        0.29411766 0.56078434]\n",
            "   [0.6245098  0.32843137 0.58137256]]]\n",
            "\n",
            "\n",
            " [[[0.         0.         0.        ]\n",
            "   [0.         0.         0.        ]\n",
            "   [0.         0.         0.        ]\n",
            "   ...\n",
            "   [0.         0.         0.        ]\n",
            "   [0.         0.         0.        ]\n",
            "   [0.         0.         0.        ]]\n",
            "\n",
            "  [[0.         0.         0.        ]\n",
            "   [0.         0.         0.        ]\n",
            "   [0.         0.         0.        ]\n",
            "   ...\n",
            "   [0.         0.         0.        ]\n",
            "   [0.         0.         0.        ]\n",
            "   [0.         0.         0.        ]]\n",
            "\n",
            "  [[0.         0.         0.        ]\n",
            "   [0.         0.         0.        ]\n",
            "   [0.         0.         0.        ]\n",
            "   ...\n",
            "   [0.         0.         0.        ]\n",
            "   [0.         0.         0.        ]\n",
            "   [0.         0.         0.        ]]\n",
            "\n",
            "  ...\n",
            "\n",
            "  [[0.         0.         0.        ]\n",
            "   [0.         0.         0.        ]\n",
            "   [0.         0.         0.        ]\n",
            "   ...\n",
            "   [0.         0.         0.        ]\n",
            "   [0.         0.         0.        ]\n",
            "   [0.         0.         0.        ]]\n",
            "\n",
            "  [[0.         0.         0.        ]\n",
            "   [0.         0.         0.        ]\n",
            "   [0.         0.         0.        ]\n",
            "   ...\n",
            "   [0.         0.         0.        ]\n",
            "   [0.         0.         0.        ]\n",
            "   [0.         0.         0.        ]]\n",
            "\n",
            "  [[0.         0.         0.        ]\n",
            "   [0.         0.         0.        ]\n",
            "   [0.         0.         0.        ]\n",
            "   ...\n",
            "   [0.         0.         0.        ]\n",
            "   [0.         0.         0.        ]\n",
            "   [0.         0.         0.        ]]]\n",
            "\n",
            "\n",
            " ...\n",
            "\n",
            "\n",
            " [[[0.89509803 0.49117646 0.64705884]\n",
            "   [0.9284314  0.5323529  0.7235294 ]\n",
            "   [0.9235294  0.50490195 0.64117646]\n",
            "   ...\n",
            "   [0.88235295 0.56960785 0.75392157]\n",
            "   [0.89705884 0.62058824 0.8029412 ]\n",
            "   [0.89117646 0.6039216  0.8068628 ]]\n",
            "\n",
            "  [[0.91568625 0.5        0.6666667 ]\n",
            "   [0.8715686  0.5147059  0.6862745 ]\n",
            "   [0.9284314  0.5480392  0.6735294 ]\n",
            "   ...\n",
            "   [0.77156866 0.43529412 0.672549  ]\n",
            "   [0.7676471  0.45392156 0.6617647 ]\n",
            "   [0.7656863  0.48333332 0.68039215]]\n",
            "\n",
            "  [[0.84117645 0.44313726 0.6127451 ]\n",
            "   [0.8990196  0.4872549  0.66764706]\n",
            "   [0.8980392  0.5107843  0.6852941 ]\n",
            "   ...\n",
            "   [0.8509804  0.5529412  0.7441176 ]\n",
            "   [0.7872549  0.5009804  0.7058824 ]\n",
            "   [0.7627451  0.4509804  0.66568625]]\n",
            "\n",
            "  ...\n",
            "\n",
            "  [[0.84705883 0.5421569  0.74215686]\n",
            "   [0.83235294 0.5362745  0.7382353 ]\n",
            "   [0.8156863  0.4745098  0.7       ]\n",
            "   ...\n",
            "   [0.6666667  0.29411766 0.57254905]\n",
            "   [0.7058824  0.36568627 0.61470586]\n",
            "   [0.5627451  0.2382353  0.5117647 ]]\n",
            "\n",
            "  [[0.8215686  0.4970588  0.7127451 ]\n",
            "   [0.82843137 0.51960784 0.7147059 ]\n",
            "   [0.8333333  0.51666665 0.7254902 ]\n",
            "   ...\n",
            "   [0.6627451  0.34215686 0.62352943]\n",
            "   [0.62647057 0.30490196 0.6127451 ]\n",
            "   [0.6019608  0.28431374 0.58431375]]\n",
            "\n",
            "  [[0.7647059  0.39607844 0.6647059 ]\n",
            "   [0.84705883 0.46568626 0.6911765 ]\n",
            "   [0.8784314  0.5294118  0.7470588 ]\n",
            "   ...\n",
            "   [0.6137255  0.29607844 0.56666666]\n",
            "   [0.5921569  0.29411766 0.5764706 ]\n",
            "   [0.60882354 0.30686274 0.5892157 ]]]\n",
            "\n",
            "\n",
            " [[[0.70686275 0.40490195 0.67941177]\n",
            "   [0.71568626 0.41764706 0.67156863]\n",
            "   [0.7470588  0.4343137  0.6882353 ]\n",
            "   ...\n",
            "   [0.8490196  0.56666666 0.7127451 ]\n",
            "   [0.72745097 0.45392156 0.6480392 ]\n",
            "   [0.70686275 0.4127451  0.6578431 ]]\n",
            "\n",
            "  [[0.5735294  0.29117647 0.5598039 ]\n",
            "   [0.71960783 0.4245098  0.65882355]\n",
            "   [0.84117645 0.53137255 0.7627451 ]\n",
            "   ...\n",
            "   [0.9745098  0.6617647  0.827451  ]\n",
            "   [0.6901961  0.39019608 0.5862745 ]\n",
            "   [0.84313726 0.5294118  0.7509804 ]]\n",
            "\n",
            "  [[0.6019608  0.3156863  0.5901961 ]\n",
            "   [0.7029412  0.4245098  0.65392154]\n",
            "   [0.8882353  0.59607846 0.81078434]\n",
            "   ...\n",
            "   [0.94215685 0.6647059  0.8254902 ]\n",
            "   [0.9137255  0.65686274 0.7941176 ]\n",
            "   [0.85882354 0.57843137 0.74215686]]\n",
            "\n",
            "  ...\n",
            "\n",
            "  [[0.82843137 0.52254903 0.75      ]\n",
            "   [0.79607844 0.50980395 0.72745097]\n",
            "   [0.84117645 0.54901963 0.7627451 ]\n",
            "   ...\n",
            "   [0.7921569  0.48039216 0.6745098 ]\n",
            "   [0.9117647  0.595098   0.7862745 ]\n",
            "   [0.8303922  0.5107843  0.7       ]]\n",
            "\n",
            "  [[0.7794118  0.46960783 0.6862745 ]\n",
            "   [0.7852941  0.4735294  0.71568626]\n",
            "   [0.84411764 0.5637255  0.7794118 ]\n",
            "   ...\n",
            "   [0.95       0.6480392  0.8009804 ]\n",
            "   [0.9637255  0.7127451  0.8362745 ]\n",
            "   [0.8901961  0.63529414 0.7745098 ]]\n",
            "\n",
            "  [[0.7411765  0.40686274 0.654902  ]\n",
            "   [0.79313725 0.4617647  0.7107843 ]\n",
            "   [0.8029412  0.4990196  0.7235294 ]\n",
            "   ...\n",
            "   [0.8029412  0.49607843 0.68039215]\n",
            "   [0.9098039  0.65588236 0.7921569 ]\n",
            "   [0.9980392  0.7588235  0.8862745 ]]]\n",
            "\n",
            "\n",
            " [[[0.82941175 0.5029412  0.68039215]\n",
            "   [0.7127451  0.40294117 0.60882354]\n",
            "   [0.7617647  0.45490196 0.64509803]\n",
            "   ...\n",
            "   [0.9235294  0.9107843  0.9019608 ]\n",
            "   [0.90392154 0.9009804  0.8980392 ]\n",
            "   [0.9107843  0.8833333  0.9009804 ]]\n",
            "\n",
            "  [[0.8098039  0.47941175 0.68235296]\n",
            "   [0.7745098  0.46862745 0.6931372 ]\n",
            "   [0.7294118  0.4490196  0.65      ]\n",
            "   ...\n",
            "   [0.90686274 0.8264706  0.8813726 ]\n",
            "   [0.92156863 0.8490196  0.9078431 ]\n",
            "   [0.9019608  0.8068628  0.8862745 ]]\n",
            "\n",
            "  [[0.84313726 0.49803922 0.67745095]\n",
            "   [0.7794118  0.46960783 0.6882353 ]\n",
            "   [0.8088235  0.5637255  0.74215686]\n",
            "   ...\n",
            "   [0.90588236 0.76960784 0.8666667 ]\n",
            "   [0.90294117 0.75490195 0.8715686 ]\n",
            "   [0.8784314  0.7127451  0.85784316]]\n",
            "\n",
            "  ...\n",
            "\n",
            "  [[0.70392156 0.3745098  0.61764705]\n",
            "   [0.7392157  0.40980393 0.6431373 ]\n",
            "   [0.82843137 0.5147059  0.7362745 ]\n",
            "   ...\n",
            "   [0.95       0.8382353  0.92058825]\n",
            "   [0.9588235  0.90686274 0.95980394]\n",
            "   [0.9196078  0.9117647  0.9372549 ]]\n",
            "\n",
            "  [[0.7372549  0.43137255 0.6735294 ]\n",
            "   [0.79509807 0.45882353 0.71666664]\n",
            "   [0.8147059  0.49117646 0.7245098 ]\n",
            "   ...\n",
            "   [0.9019608  0.7176471  0.84313726]\n",
            "   [0.97843134 0.87941176 0.9431372 ]\n",
            "   [0.93921566 0.9196078  0.93921566]]\n",
            "\n",
            "  [[0.81078434 0.4627451  0.67941177]\n",
            "   [0.7882353  0.4372549  0.67058825]\n",
            "   [0.8215686  0.47843137 0.70490193]\n",
            "   ...\n",
            "   [0.69411767 0.43333334 0.6607843 ]\n",
            "   [0.95       0.7794118  0.9235294 ]\n",
            "   [0.9529412  0.8627451  0.93921566]]]]\n",
            "<class 'numpy.ndarray'>\n",
            "[0 1 0 1 0 0 1 1 0 0 0 1 0 0 1 0 1 0 1 1 0 0 1 1 1]\n",
            "<class 'numpy.ndarray'>\n",
            "[1 0 0 0 0 0 1]\n"
          ]
        }
      ],
      "source": [
        "print(type(X_train))\n",
        "print((X_train))\n",
        "print(type(X_val))\n",
        "print((X_val))\n",
        "print(type(y_train))\n",
        "print((y_train))\n",
        "print(type(y_val))\n",
        "print((y_val))"
      ]
    },
    {
      "cell_type": "code",
      "execution_count": 81,
      "metadata": {
        "id": "Zq5xQTQZX6QP"
      },
      "outputs": [],
      "source": [
        "# Use a pre-trained model (InceptionV3 in this case)\n",
        "base_model = InceptionV3(include_top=False, weights='imagenet', input_shape=(target_size[0], target_size[1], 3))\n",
        "#Freeze the convolutional layers\n",
        "for layer in base_model.layers:\n",
        "    layer.trainable = False\n"
      ]
    },
    {
      "cell_type": "markdown",
      "metadata": {
        "id": "yRBEuNZyX9jF"
      },
      "source": [
        "# model"
      ]
    },
    {
      "cell_type": "code",
      "execution_count": 82,
      "metadata": {
        "id": "2CNUmOlpX6tH"
      },
      "outputs": [],
      "source": [
        "from tensorflow.keras.regularizers import l2\n",
        "# Create a new model on top\n",
        "# model = models.Sequential()\n",
        "# model.add(base_model)\n",
        "# model.add(layers.Flatten())\n",
        "# model.add(layers.Dense(256, activation='relu'))\n",
        "# model.add(layers.Dropout(0.5))\n",
        "# model.add(layers.Dense(1, activation='sigmoid'))\n",
        "\n",
        "# Build your classification model on top of DenseNet\n",
        "# model = models.Sequential()\n",
        "# model.add(base_model)\n",
        "# model.add(layers.GlobalAveragePooling2D())\n",
        "# model.add(layers.Dense(256, activation='relu'))\n",
        "# model.add(layers.Dropout(0.5))\n",
        "# model.add(layers.Dense(1, activation='sigmoid'))\n",
        "\n",
        "# THIS IS usableBuild your classification model on top of EfficientNet\n",
        "# model = models.Sequential()\n",
        "# model.add(base_model)\n",
        "# model.add(layers.GlobalAveragePooling2D())\n",
        "# model.add(layers.Dense(128, activation='relu'))\n",
        "# model.add(layers.Dropout(0.5))\n",
        "# model.add(layers.Dense(1, activation='sigmoid'))\n",
        "\n",
        "model = models.Sequential()\n",
        "model.add(base_model)\n",
        "model.add(layers.GlobalAveragePooling2D())\n",
        "model.add(layers.Dense(128, activation=tf.keras.layers.LeakyReLU(alpha=0.01)))# kernel_regularizer=l2(0.001)))  # L2 regularization with factor 0.001, 2)from 384\n",
        "model.add(layers.Dropout(0.7))\n",
        "model.add(layers.Dense(1, activation='sigmoid'))\n",
        "\n"
      ]
    },
    {
      "cell_type": "code",
      "execution_count": 83,
      "metadata": {
        "id": "xPKgwa64X6tI"
      },
      "outputs": [],
      "source": [
        "# Compile the model with a learning rate scheduler\n",
        "def scheduler(epoch, lr):\n",
        "    if epoch < 10:\n",
        "        return lr\n",
        "    else:\n",
        "        return lr * tf.math.exp(-0.1)\n"
      ]
    },
    {
      "cell_type": "code",
      "execution_count": 84,
      "metadata": {
        "id": "ZOE3LrAkX6tJ"
      },
      "outputs": [],
      "source": [
        "lr_schedule = tf.keras.callbacks.LearningRateScheduler(scheduler)\n"
      ]
    },
    {
      "cell_type": "code",
      "execution_count": 85,
      "metadata": {
        "id": "K1OQx5ucX6tJ"
      },
      "outputs": [],
      "source": [
        "\n",
        "model.compile(optimizer='adam', loss='binary_crossentropy', metrics=['accuracy'])\n"
      ]
    },
    {
      "cell_type": "code",
      "execution_count": 86,
      "metadata": {
        "id": "Ebsc5UibX6tJ"
      },
      "outputs": [],
      "source": [
        "# Fine-Tuning: Unfreeze the last few layers\n",
        "\n",
        "# for layer in base_model.layers[-20:]:\n",
        "#     layer.trainable = True\n"
      ]
    },
    {
      "cell_type": "code",
      "execution_count": 87,
      "metadata": {
        "colab": {
          "base_uri": "https://localhost:8080/"
        },
        "id": "nJSpTRCCX6tK",
        "outputId": "389e41f0-b356-44f7-9b9b-918b66780c61"
      },
      "outputs": [
        {
          "name": "stdout",
          "output_type": "stream",
          "text": [
            "{0, 1}\n"
          ]
        }
      ],
      "source": [
        "print(set(y_train))\n"
      ]
    },
    {
      "cell_type": "code",
      "execution_count": 88,
      "metadata": {
        "colab": {
          "base_uri": "https://localhost:8080/"
        },
        "id": "XjrN9ZDFX6tL",
        "outputId": "c5029d14-033f-4e50-a3e8-1f9bca3ca436"
      },
      "outputs": [
        {
          "name": "stdout",
          "output_type": "stream",
          "text": [
            "Model: \"sequential_3\"\n",
            "_________________________________________________________________\n",
            " Layer (type)                Output Shape              Param #   \n",
            "=================================================================\n",
            " inception_v3 (Functional)   (None, 2, 2, 2048)        21802784  \n",
            "                                                                 \n",
            " global_average_pooling2d_2  (None, 2048)              0         \n",
            "  (GlobalAveragePooling2D)                                       \n",
            "                                                                 \n",
            " dense_4 (Dense)             (None, 128)               262272    \n",
            "                                                                 \n",
            " dropout_2 (Dropout)         (None, 128)               0         \n",
            "                                                                 \n",
            " dense_5 (Dense)             (None, 1)                 129       \n",
            "                                                                 \n",
            "=================================================================\n",
            "Total params: 22065185 (84.17 MB)\n",
            "Trainable params: 2197761 (8.38 MB)\n",
            "Non-trainable params: 19867424 (75.79 MB)\n",
            "_________________________________________________________________\n"
          ]
        }
      ],
      "source": [
        "model.summary()"
      ]
    },
    {
      "cell_type": "code",
      "execution_count": 89,
      "metadata": {
        "colab": {
          "base_uri": "https://localhost:8080/"
        },
        "id": "2eX406R6nsy-",
        "outputId": "27ffae31-e0f8-44c5-8448-91ee690fa770"
      },
      "outputs": [
        {
          "name": "stdout",
          "output_type": "stream",
          "text": [
            "Epoch 1/9\n",
            "1/1 [==============================] - 31s 31s/step - loss: 1.8311 - accuracy: 0.4000 - val_loss: 0.9557 - val_accuracy: 0.5714\n",
            "Epoch 2/9\n",
            "1/1 [==============================] - 1s 749ms/step - loss: 1.1417 - accuracy: 0.6400 - val_loss: 1.0973 - val_accuracy: 0.5714\n",
            "Epoch 3/9\n",
            "1/1 [==============================] - 1s 774ms/step - loss: 1.0028 - accuracy: 0.6800 - val_loss: 1.2261 - val_accuracy: 0.5714\n",
            "Epoch 4/9\n",
            "1/1 [==============================] - 1s 652ms/step - loss: 1.3609 - accuracy: 0.6800 - val_loss: 1.2982 - val_accuracy: 0.5714\n",
            "Epoch 5/9\n",
            "1/1 [==============================] - 1s 735ms/step - loss: 1.4149 - accuracy: 0.6400 - val_loss: 0.7566 - val_accuracy: 0.5714\n",
            "Epoch 6/9\n",
            "1/1 [==============================] - 1s 715ms/step - loss: 0.5120 - accuracy: 0.7200 - val_loss: 0.6010 - val_accuracy: 0.7143\n",
            "Epoch 7/9\n",
            "1/1 [==============================] - 1s 700ms/step - loss: 0.8028 - accuracy: 0.7200 - val_loss: 0.5731 - val_accuracy: 0.8571\n",
            "Epoch 8/9\n",
            "1/1 [==============================] - 1s 612ms/step - loss: 0.5901 - accuracy: 0.8400 - val_loss: 0.5734 - val_accuracy: 0.8571\n",
            "Epoch 9/9\n",
            "1/1 [==============================] - 1s 681ms/step - loss: 0.8978 - accuracy: 0.7600 - val_loss: 0.5280 - val_accuracy: 0.8571\n"
          ]
        }
      ],
      "source": [
        "#model.load_weights(weights_path2)\n",
        "hist=model.fit(X_train, y_train, epochs=9, validation_data=(X_val, y_val))"
      ]
    },
    {
      "cell_type": "code",
      "execution_count": null,
      "metadata": {
        "id": "Hmeu8PxdAjsA"
      },
      "outputs": [],
      "source": [
        "#model.save_weights(\"/content/drive/MyDrive/weights_7_epochs.h5\")\n"
      ]
    },
    {
      "cell_type": "code",
      "execution_count": null,
      "metadata": {
        "id": "0LAaZuGtosa_"
      },
      "outputs": [],
      "source": [
        "\n"
      ]
    },
    {
      "cell_type": "code",
      "execution_count": 90,
      "metadata": {
        "colab": {
          "base_uri": "https://localhost:8080/",
          "height": 478
        },
        "id": "0_ysaG6HosbR",
        "outputId": "9c3de6af-051a-475d-bd2f-9e83562eddd4"
      },
      "outputs": [
        {
          "data": {
            "image/png": "[encoded data removed]",
            "text/plain": [
              "<Figure size 640x480 with 1 Axes>"
            ]
          },
          "metadata": {},
          "output_type": "display_data"
        }
      ],
      "source": [
        "fig=plt.figure()\n",
        "plt.plot(hist.history['loss'],color='teal',label='loss')\n",
        "plt.plot(hist.history['val_loss'],color='orange',label='val_loss')\n",
        "fig.suptitle('Loss',fontsize=20)\n",
        "plt.legend(loc=\"upper left\")\n",
        "plt.show()"
      ]
    },
    {
      "cell_type": "code",
      "execution_count": 91,
      "metadata": {
        "colab": {
          "base_uri": "https://localhost:8080/",
          "height": 478
        },
        "id": "TELOGZviosbR",
        "outputId": "38de9f27-aeec-4473-e6d2-8c205b020c92"
      },
      "outputs": [
        {
          "data": {
            "image/png": "[encoded data removed]",
            "text/plain": [
              "<Figure size 640x480 with 1 Axes>"
            ]
          },
          "metadata": {},
          "output_type": "display_data"
        }
      ],
      "source": [
        "fig=plt.figure()\n",
        "plt.plot(hist.history['accuracy'],color='teal',label='accuracy')\n",
        "plt.plot(hist.history['val_accuracy'],color='orange',label='val_accuracy')\n",
        "fig.suptitle('Accuracy',fontsize=20)\n",
        "plt.legend(loc=\"upper left\")\n",
        "plt.show()"
      ]
    },
    {
      "cell_type": "code",
      "execution_count": 92,
      "metadata": {
        "colab": {
          "base_uri": "https://localhost:8080/"
        },
        "id": "YhymtoInosbU",
        "outputId": "68d05679-77e9-4a37-a078-67b5e54d5e73"
      },
      "outputs": [
        {
          "name": "stdout",
          "output_type": "stream",
          "text": [
            "1/1 [==============================] - 8s 8s/step\n",
            "len of pred data 7\n",
            "Mean: 0.25403407\n",
            "Median: 0.13753715\n",
            "Standard Deviation: 0.32624158\n",
            "pred min val: 0.00030339512\n",
            "pred max val: 0.9769916\n",
            "Data above mean: 2\n",
            "Data below mean: 5\n",
            "Data below Q1: 2\n",
            "Data between Q1 and Q2: 1\n",
            "Data between Q2 and Q3: 2\n",
            "Data above Q3: 2\n",
            "[[9.7699159e-01]\n",
            " [1.5580121e-01]\n",
            " [4.4172668e-01]\n",
            " [3.0339512e-04]\n",
            " [3.1693773e-03]\n",
            " [1.3753715e-01]\n",
            " [6.2708966e-02]]\n"
          ]
        }
      ],
      "source": [
        "import numpy as np\n",
        "y_pred = model.predict(X_val)\n",
        "pred_probs_array = np.array(y_pred)\n",
        "\n",
        "mean = np.mean(pred_probs_array)\n",
        "median = np.median(pred_probs_array)\n",
        "std_dev = np.std(pred_probs_array)\n",
        "\n",
        "pmax_val = np.max(pred_probs_array)\n",
        "pmin_val = np.min(pred_probs_array)\n",
        "\n",
        "above_median = np.sum(pred_probs_array > mean)\n",
        "below_median = np.sum(pred_probs_array < mean)\n",
        "\n",
        "q1 = np.percentile(pred_probs_array, 25)\n",
        "q2 = np.percentile(pred_probs_array, 50)\n",
        "q3 = np.percentile(pred_probs_array, 75)\n",
        "\n",
        "below_q1 = np.sum(pred_probs_array < q1)\n",
        "between_q1_q2 = np.sum((pred_probs_array >= q1) & (pred_probs_array < q2))\n",
        "between_q2_q3 = np.sum((pred_probs_array >= q2) & (pred_probs_array < q3))\n",
        "above_q3 = np.sum(pred_probs_array > q3)\n",
        "\n",
        "print(\"len of pred data\", len(pred_probs_array))\n",
        "print(\"Mean:\", mean)\n",
        "print(\"Median:\", median)\n",
        "print(\"Standard Deviation:\", std_dev)\n",
        "print(\"pred min val:\", pmin_val)\n",
        "print(\"pred max val:\", pmax_val)\n",
        "print(\"Data above mean:\", above_median)\n",
        "print(\"Data below mean:\", below_median)\n",
        "print(\"Data below Q1:\", below_q1)\n",
        "print(\"Data between Q1 and Q2:\", between_q1_q2)\n",
        "print(\"Data between Q2 and Q3:\", between_q2_q3)\n",
        "print(\"Data above Q3:\", above_q3)\n",
        "\n",
        "print(y_pred)"
      ]
    },
    {
      "cell_type": "code",
      "execution_count": 97,
      "metadata": {
        "id": "gzhP8P_SosbS"
      },
      "outputs": [],
      "source": [
        "# Evaluate the model on the validation set\n",
        "\n",
        "# y_pred_binary = (y_pred > (mean - (std_dev/10))).astype(int)\n",
        "y_pred_binary = (y_pred > 0.5).astype(int)\n",
        "\n"
      ]
    },
    {
      "cell_type": "code",
      "execution_count": 98,
      "metadata": {
        "colab": {
          "base_uri": "https://localhost:8080/"
        },
        "id": "AA90Lr0MosbT",
        "outputId": "610d623a-4c0d-4d9d-d623-4b2e170916fd"
      },
      "outputs": [
        {
          "name": "stdout",
          "output_type": "stream",
          "text": [
            "[[1]\n",
            " [0]\n",
            " [0]\n",
            " [0]\n",
            " [0]\n",
            " [0]\n",
            " [0]]\n",
            "[1 0 0 0 0 0 1]\n"
          ]
        }
      ],
      "source": [
        "print (y_pred_binary)\n",
        "print (y_val)"
      ]
    },
    {
      "cell_type": "code",
      "execution_count": 99,
      "metadata": {
        "colab": {
          "base_uri": "https://localhost:8080/"
        },
        "id": "OktGbV8nosbT",
        "outputId": "e8e83d6d-11da-4874-c835-eae865da1a89"
      },
      "outputs": [
        {
          "name": "stdout",
          "output_type": "stream",
          "text": [
            "Accuracy: 0.86\n"
          ]
        }
      ],
      "source": [
        "# Evaluate the model\n",
        "accuracy = accuracy_score(y_val, y_pred_binary)\n",
        "print(f\"Accuracy: {accuracy:.2f}\")\n"
      ]
    },
    {
      "cell_type": "code",
      "execution_count": null,
      "metadata": {
        "colab": {
          "base_uri": "https://localhost:8080/"
        },
        "id": "OAjFFKg5osbU",
        "outputId": "db0fc44c-3dd6-435d-ee3e-9f295ef24081"
      },
      "outputs": [],
      "source": [
        "# Print classification report\n",
        "print(\"Classification Report:\")\n",
        "print(classification_report(y_val, y_pred_binary))"
      ]
    },
    {
      "cell_type": "code",
      "execution_count": 101,
      "metadata": {
        "colab": {
          "base_uri": "https://localhost:8080/"
        },
        "id": "OpP6-9D2osbV",
        "outputId": "c148fe17-e0ba-45f5-f64a-ad555f0f9587"
      },
      "outputs": [
        {
          "name": "stdout",
          "output_type": "stream",
          "text": [
            "Model input shape: (None, 128, 128, 3)\n",
            "Shape of resized test images: (99, 128, 128, 3)\n",
            "4/4 [==============================] - 2s 493ms/step\n"
          ]
        }
      ],
      "source": [
        "from keras.preprocessing import image\n",
        "\n",
        "# Load the test dataset\n",
        "test_data2 = pd.read_csv('softec24-final-round/Testing.csv')\n",
        "\n",
        "# Define the target image dimensions\n",
        "target_img_width, target_img_height = 128, 128\n",
        "\n",
        "# Preprocess the test images\n",
        "test_images2 = []\n",
        "for img_name in test_data2['Image']:\n",
        "    img_path = 'softec24-final-round/Testing Image/' + str(img_name)\n",
        "\n",
        "    # Load and resize the image\n",
        "    img = image.load_img(img_path, target_size=(target_img_width, target_img_height))\n",
        "    img = image.img_to_array(img)\n",
        "    img = img / 255.0  # Normalize pixel values\n",
        "    test_images2.append(img)\n",
        "\n",
        "test_images2 = np.array(test_images2)\n",
        "model_input_shape = model.layers[0].input_shape\n",
        "print(f\"Model input shape: {model_input_shape}\")\n",
        "print(f\"Shape of resized test images: {test_images2.shape}\")\n",
        "\n",
        "# Make predictions using the trained model\n",
        "predictions2 = model.predict(test_images2)\n"
      ]
    },
    {
      "cell_type": "code",
      "execution_count": 102,
      "metadata": {
        "colab": {
          "base_uri": "https://localhost:8080/"
        },
        "id": "ME52teHgosbV",
        "outputId": "a8eac3df-eb42-4e38-c26c-3762dcb78e95"
      },
      "outputs": [
        {
          "name": "stdout",
          "output_type": "stream",
          "text": [
            "len of pred data 99\n",
            "Mean: 0.28813857\n",
            "Median: 0.09168026\n",
            "Standard Deviation: 0.3326921\n",
            "pred min val: 6.8818595e-06\n",
            "pred max val: 0.9918067\n",
            "Data above mean: 40\n",
            "Data below mean: 59\n",
            "Data below Q1: 25\n",
            "Data between Q1 and Q2: 24\n",
            "Data between Q2 and Q3: 25\n",
            "Data above Q3: 25\n"
          ]
        }
      ],
      "source": [
        "pred_prob2 = np.array(predictions2)\n",
        "\n",
        "mean = np.mean(pred_prob2)\n",
        "median = np.median(pred_prob2)\n",
        "std_dev = np.std(pred_prob2)\n",
        "\n",
        "pmax_val = np.max(pred_prob2)\n",
        "pmin_val = np.min(pred_prob2)\n",
        "\n",
        "above_median = np.sum(pred_prob2 > mean)\n",
        "below_median = np.sum(pred_prob2 < mean)\n",
        "\n",
        "q1 = np.percentile(pred_prob2, 25)\n",
        "q2 = np.percentile(pred_prob2, 50)\n",
        "q3 = np.percentile(pred_prob2, 75)\n",
        "\n",
        "below_q1 = np.sum(pred_prob2 < q1)\n",
        "between_q1_q2 = np.sum((pred_prob2 >= q1) & (pred_prob2 < q2))\n",
        "between_q2_q3 = np.sum((pred_prob2 >= q2) & (pred_prob2 < q3))\n",
        "above_q3 = np.sum(pred_prob2 > q3)\n",
        "\n",
        "print(\"len of pred data\", len(pred_prob2))\n",
        "print(\"Mean:\", mean)\n",
        "print(\"Median:\", median)\n",
        "print(\"Standard Deviation:\", std_dev)\n",
        "print(\"pred min val:\", pmin_val)\n",
        "print(\"pred max val:\", pmax_val)\n",
        "print(\"Data above mean:\", above_median)\n",
        "print(\"Data below mean:\", below_median)\n",
        "print(\"Data below Q1:\", below_q1)\n",
        "print(\"Data between Q1 and Q2:\", between_q1_q2)\n",
        "print(\"Data between Q2 and Q3:\", between_q2_q3)\n",
        "print(\"Data above Q3:\", above_q3)\n"
      ]
    },
    {
      "cell_type": "code",
      "execution_count": 105,
      "metadata": {
        "colab": {
          "base_uri": "https://localhost:8080/"
        },
        "id": "k-WWOek0osbW",
        "outputId": "823e4045-ea5f-410f-f784-b9aff7a0cdae"
      },
      "outputs": [
        {
          "name": "stdout",
          "output_type": "stream",
          "text": [
            "0.32140777707099916\n"
          ]
        }
      ],
      "source": [
        "threshold = ((mean))+(std_dev/10)\n",
        "print(threshold)\n",
        "# Convert predictions2 to class labels (assuming binary classification)\n",
        "predicted_labels2 = [\"Normal\" if pred > 0.5 else \"Mitosis\" for pred in predictions2]\n",
        "\n",
        "# Add predicted labels to the test data CSV file\n",
        "test_data2['label'] = predicted_labels2\n",
        "\n",
        "# Save the updated test data CSV file\n",
        "test_data2.to_csv('softec24-final-round/submissions11.csv', index=False)"
      ]
    },
    {
      "cell_type": "code",
      "execution_count": null,
      "metadata": {
        "id": "5dpCoPH22URe"
      },
      "outputs": [],
      "source": []
    }
  ],
  "metadata": {
    "accelerator": "TPU",
    "colab": {
      "provenance": []
    },
    "kernelspec": {
      "display_name": "Python 3",
      "name": "python3"
    },
    "language_info": {
      "codemirror_mode": {
        "name": "ipython",
        "version": 3
      },
      "file_extension": ".py",
      "mimetype": "text/x-python",
      "name": "python",
      "nbconvert_exporter": "python",
      "pygments_lexer": "ipython3",
      "version": "3.11.3"
    }
  },
  "nbformat": 4,
  "nbformat_minor": 0
}
